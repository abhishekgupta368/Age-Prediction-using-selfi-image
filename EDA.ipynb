{
 "cells": [
  {
   "cell_type": "markdown",
   "metadata": {},
   "source": [
    "## Before Starting Any Machine learning Project, We need to do Exploratory Data Analysis"
   ]
  },
  {
   "cell_type": "code",
   "execution_count": 2,
   "metadata": {},
   "outputs": [],
   "source": [
    "import numpy as np\n",
    "import matplotlib.pyplot as plt\n",
    "import pandas as pd\n",
    "import cv2\n",
    "import os"
   ]
  },
  {
   "cell_type": "code",
   "execution_count": 3,
   "metadata": {},
   "outputs": [],
   "source": [
    "class DataExploratoryAnalysis():\n",
    "    def __init__(self,folder,f_name):\n",
    "        self.data = pd.read_csv(f_name)\n",
    "        self.folder = folder \n",
    "    \n",
    "    def read_files(self,no=5):\n",
    "        print(self.data.head(no))\n",
    "    \n",
    "    def plot_data_age(self,col_name,gph_title,x_lab,y_lab):\n",
    "        ages = np.unique(self.data[col_name].values)\n",
    "        age_cnt = {}\n",
    "        for age in ages:\n",
    "            age_cnt[age]=0\n",
    "        \n",
    "        for age in self.data[col_name].values:\n",
    "            age_cnt[age]+=1\n",
    "        \n",
    "        labels = []\n",
    "        counts = []\n",
    "        for lab,val in age_cnt.items():\n",
    "            labels.append(lab)\n",
    "            counts.append(val)\n",
    "        \n",
    "        plt.barh(labels,counts)\n",
    "        plt.title(gph_title)\n",
    "        plt.xlabel(x_lab)\n",
    "        plt.ylabel(y_lab)\n",
    "        plt.show()\n",
    "        \n",
    "    def genrate_url(self):\n",
    "        files = os.listdir(self.folder)\n",
    "        path = os.path.abspath(self.folder)\n",
    "        url_list = []\n",
    "        for file in files:\n",
    "            url_list.append(os.path.join(path,file))\n",
    "        self.data['urls'] = url_list\n",
    "        print(self.data)\n",
    "        \n",
    "    def save_data(self,save_file_name):\n",
    "        self.data.to_csv(save_file_name+\".csv\",index=False)"
   ]
  },
  {
   "cell_type": "code",
   "execution_count": 4,
   "metadata": {},
   "outputs": [],
   "source": [
    "if __name__ == \"__main__\":\n",
    "    ppf = DataExploratoryAnalysis(\"train\",\"fairface_label_train.csv\")"
   ]
  },
  {
   "cell_type": "markdown",
   "metadata": {},
   "source": [
    "## We plot the Image by there Ages"
   ]
  },
  {
   "cell_type": "code",
   "execution_count": 5,
   "metadata": {},
   "outputs": [
    {
     "data": {
      "image/png": "[encoded data removed]",
      "text/plain": [
       "<Figure size 432x288 with 1 Axes>"
      ]
     },
     "metadata": {
      "needs_background": "light"
     },
     "output_type": "display_data"
    }
   ],
   "source": [
    "ppf.plot_data_age(\"age\",\"count by age\",\"count\",\"age\")"
   ]
  },
  {
   "cell_type": "markdown",
   "metadata": {},
   "source": [
    "## We plot data using gender"
   ]
  },
  {
   "cell_type": "code",
   "execution_count": 6,
   "metadata": {},
   "outputs": [
    {
     "data": {
      "image/png": "[encoded data removed]",
      "text/plain": [
       "<Figure size 432x288 with 1 Axes>"
      ]
     },
     "metadata": {
      "needs_background": "light"
     },
     "output_type": "display_data"
    }
   ],
   "source": [
    "ppf.plot_data_age(\"gender\",\"count by gender\",\"count\",\"gender\")"
   ]
  },
  {
   "cell_type": "markdown",
   "metadata": {},
   "source": [
    "## We plot data using race of person"
   ]
  },
  {
   "cell_type": "code",
   "execution_count": 7,
   "metadata": {},
   "outputs": [
    {
     "data": {
      "image/png": "[encoded data removed]",
      "text/plain": [
       "<Figure size 432x288 with 1 Axes>"
      ]
     },
     "metadata": {
      "needs_background": "light"
     },
     "output_type": "display_data"
    }
   ],
   "source": [
    "ppf.plot_data_age(\"race\",\"count by race\",\"count\",\"race\")"
   ]
  },
  {
   "cell_type": "code",
   "execution_count": 6,
   "metadata": {},
   "outputs": [
    {
     "name": "stdout",
     "output_type": "stream",
     "text": [
      "                  file           age  gender             race  service_test  \\\n",
      "0          train/1.jpg         50-59    Male       East Asian          True   \n",
      "1          train/2.jpg         30-39  Female           Indian         False   \n",
      "2          train/3.jpg           3-9  Female            Black         False   \n",
      "3          train/4.jpg         20-29  Female           Indian          True   \n",
      "4          train/5.jpg         20-29  Female           Indian          True   \n",
      "5          train/6.jpg         20-29    Male            White          True   \n",
      "6          train/7.jpg         40-49    Male   Middle Eastern         False   \n",
      "7          train/8.jpg         30-39  Female           Indian          True   \n",
      "8          train/9.jpg         10-19    Male            White          True   \n",
      "9         train/10.jpg         30-39    Male   Middle Eastern         False   \n",
      "10        train/11.jpg         50-59    Male       East Asian          True   \n",
      "11        train/12.jpg         20-29    Male       East Asian         False   \n",
      "12        train/13.jpg         20-29    Male  Latino_Hispanic         False   \n",
      "13        train/14.jpg         10-19    Male           Indian          True   \n",
      "14        train/15.jpg         60-69  Female           Indian          True   \n",
      "15        train/16.jpg         30-39  Female            White         False   \n",
      "16        train/17.jpg         20-29  Female  Southeast Asian         False   \n",
      "17        train/18.jpg         40-49    Male  Southeast Asian         False   \n",
      "18        train/19.jpg           0-2  Female            Black         False   \n",
      "19        train/20.jpg         50-59    Male  Southeast Asian          True   \n",
      "20        train/21.jpg         20-29  Female           Indian          True   \n",
      "21        train/22.jpg         30-39  Female   Middle Eastern          True   \n",
      "22        train/23.jpg         20-29  Female            Black          True   \n",
      "23        train/24.jpg         30-39  Female            White         False   \n",
      "24        train/25.jpg         20-29  Female            White         False   \n",
      "25        train/26.jpg         30-39  Female            Black          True   \n",
      "26        train/27.jpg         50-59  Female            White         False   \n",
      "27        train/28.jpg         10-19  Female            White         False   \n",
      "28        train/29.jpg         20-29    Male           Indian          True   \n",
      "29        train/30.jpg         20-29  Female            Black         False   \n",
      "...                ...           ...     ...              ...           ...   \n",
      "86714  train/86715.jpg         50-59    Male  Southeast Asian         False   \n",
      "86715  train/86716.jpg         50-59  Female           Indian         False   \n",
      "86716  train/86717.jpg           3-9    Male            White          True   \n",
      "86717  train/86718.jpg         40-49  Female  Southeast Asian          True   \n",
      "86718  train/86719.jpg         40-49  Female   Middle Eastern          True   \n",
      "86719  train/86720.jpg         20-29  Female       East Asian          True   \n",
      "86720  train/86721.jpg           3-9  Female  Southeast Asian          True   \n",
      "86721  train/86722.jpg           0-2    Male            Black         False   \n",
      "86722  train/86723.jpg         20-29  Female   Middle Eastern          True   \n",
      "86723  train/86724.jpg         30-39    Male           Indian          True   \n",
      "86724  train/86725.jpg         50-59    Male   Middle Eastern          True   \n",
      "86725  train/86726.jpg         20-29    Male       East Asian         False   \n",
      "86726  train/86727.jpg         40-49  Female            White          True   \n",
      "86727  train/86728.jpg         30-39    Male  Southeast Asian          True   \n",
      "86728  train/86729.jpg         20-29  Female       East Asian         False   \n",
      "86729  train/86730.jpg         30-39    Male  Southeast Asian         False   \n",
      "86730  train/86731.jpg         50-59    Male            White         False   \n",
      "86731  train/86732.jpg         20-29  Female  Latino_Hispanic         False   \n",
      "86732  train/86733.jpg         40-49  Female            White         False   \n",
      "86733  train/86734.jpg         30-39    Male            White         False   \n",
      "86734  train/86735.jpg         10-19  Female           Indian          True   \n",
      "86735  train/86736.jpg         10-19    Male  Southeast Asian          True   \n",
      "86736  train/86737.jpg         20-29    Male            Black         False   \n",
      "86737  train/86738.jpg         10-19    Male           Indian          True   \n",
      "86738  train/86739.jpg         20-29    Male   Middle Eastern          True   \n",
      "86739  train/86740.jpg         20-29    Male           Indian          True   \n",
      "86740  train/86741.jpg         10-19    Male           Indian          True   \n",
      "86741  train/86742.jpg  more than 70  Female           Indian          True   \n",
      "86742  train/86743.jpg         10-19  Female            Black          True   \n",
      "86743  train/86744.jpg         40-49    Male            White         False   \n",
      "\n",
      "                                                    urls  \n",
      "0      C:\\Users\\Lenovo\\Desktop\\cppsecrets\\machine lea...  \n",
      "1      C:\\Users\\Lenovo\\Desktop\\cppsecrets\\machine lea...  \n",
      "2      C:\\Users\\Lenovo\\Desktop\\cppsecrets\\machine lea...  \n",
      "3      C:\\Users\\Lenovo\\Desktop\\cppsecrets\\machine lea...  \n",
      "4      C:\\Users\\Lenovo\\Desktop\\cppsecrets\\machine lea...  \n",
      "5      C:\\Users\\Lenovo\\Desktop\\cppsecrets\\machine lea...  \n",
      "6      C:\\Users\\Lenovo\\Desktop\\cppsecrets\\machine lea...  \n",
      "7      C:\\Users\\Lenovo\\Desktop\\cppsecrets\\machine lea...  \n",
      "8      C:\\Users\\Lenovo\\Desktop\\cppsecrets\\machine lea...  \n",
      "9      C:\\Users\\Lenovo\\Desktop\\cppsecrets\\machine lea...  \n",
      "10     C:\\Users\\Lenovo\\Desktop\\cppsecrets\\machine lea...  \n",
      "11     C:\\Users\\Lenovo\\Desktop\\cppsecrets\\machine lea...  \n",
      "12     C:\\Users\\Lenovo\\Desktop\\cppsecrets\\machine lea...  \n",
      "13     C:\\Users\\Lenovo\\Desktop\\cppsecrets\\machine lea...  \n",
      "14     C:\\Users\\Lenovo\\Desktop\\cppsecrets\\machine lea...  \n",
      "15     C:\\Users\\Lenovo\\Desktop\\cppsecrets\\machine lea...  \n",
      "16     C:\\Users\\Lenovo\\Desktop\\cppsecrets\\machine lea...  \n",
      "17     C:\\Users\\Lenovo\\Desktop\\cppsecrets\\machine lea...  \n",
      "18     C:\\Users\\Lenovo\\Desktop\\cppsecrets\\machine lea...  \n",
      "19     C:\\Users\\Lenovo\\Desktop\\cppsecrets\\machine lea...  \n",
      "20     C:\\Users\\Lenovo\\Desktop\\cppsecrets\\machine lea...  \n",
      "21     C:\\Users\\Lenovo\\Desktop\\cppsecrets\\machine lea...  \n",
      "22     C:\\Users\\Lenovo\\Desktop\\cppsecrets\\machine lea...  \n",
      "23     C:\\Users\\Lenovo\\Desktop\\cppsecrets\\machine lea...  \n",
      "24     C:\\Users\\Lenovo\\Desktop\\cppsecrets\\machine lea...  \n",
      "25     C:\\Users\\Lenovo\\Desktop\\cppsecrets\\machine lea...  \n",
      "26     C:\\Users\\Lenovo\\Desktop\\cppsecrets\\machine lea...  \n",
      "27     C:\\Users\\Lenovo\\Desktop\\cppsecrets\\machine lea...  \n",
      "28     C:\\Users\\Lenovo\\Desktop\\cppsecrets\\machine lea...  \n",
      "29     C:\\Users\\Lenovo\\Desktop\\cppsecrets\\machine lea...  \n",
      "...                                                  ...  \n",
      "86714  C:\\Users\\Lenovo\\Desktop\\cppsecrets\\machine lea...  \n",
      "86715  C:\\Users\\Lenovo\\Desktop\\cppsecrets\\machine lea...  \n",
      "86716  C:\\Users\\Lenovo\\Desktop\\cppsecrets\\machine lea...  \n",
      "86717  C:\\Users\\Lenovo\\Desktop\\cppsecrets\\machine lea...  \n",
      "86718  C:\\Users\\Lenovo\\Desktop\\cppsecrets\\machine lea...  \n",
      "86719  C:\\Users\\Lenovo\\Desktop\\cppsecrets\\machine lea...  \n",
      "86720  C:\\Users\\Lenovo\\Desktop\\cppsecrets\\machine lea...  \n",
      "86721  C:\\Users\\Lenovo\\Desktop\\cppsecrets\\machine lea...  \n",
      "86722  C:\\Users\\Lenovo\\Desktop\\cppsecrets\\machine lea...  \n",
      "86723  C:\\Users\\Lenovo\\Desktop\\cppsecrets\\machine lea...  \n",
      "86724  C:\\Users\\Lenovo\\Desktop\\cppsecrets\\machine lea...  \n",
      "86725  C:\\Users\\Lenovo\\Desktop\\cppsecrets\\machine lea...  \n",
      "86726  C:\\Users\\Lenovo\\Desktop\\cppsecrets\\machine lea...  \n",
      "86727  C:\\Users\\Lenovo\\Desktop\\cppsecrets\\machine lea...  \n",
      "86728  C:\\Users\\Lenovo\\Desktop\\cppsecrets\\machine lea...  \n",
      "86729  C:\\Users\\Lenovo\\Desktop\\cppsecrets\\machine lea...  \n",
      "86730  C:\\Users\\Lenovo\\Desktop\\cppsecrets\\machine lea...  \n",
      "86731  C:\\Users\\Lenovo\\Desktop\\cppsecrets\\machine lea...  \n",
      "86732  C:\\Users\\Lenovo\\Desktop\\cppsecrets\\machine lea...  \n",
      "86733  C:\\Users\\Lenovo\\Desktop\\cppsecrets\\machine lea...  \n",
      "86734  C:\\Users\\Lenovo\\Desktop\\cppsecrets\\machine lea...  \n",
      "86735  C:\\Users\\Lenovo\\Desktop\\cppsecrets\\machine lea...  \n",
      "86736  C:\\Users\\Lenovo\\Desktop\\cppsecrets\\machine lea...  \n",
      "86737  C:\\Users\\Lenovo\\Desktop\\cppsecrets\\machine lea...  \n",
      "86738  C:\\Users\\Lenovo\\Desktop\\cppsecrets\\machine lea...  \n",
      "86739  C:\\Users\\Lenovo\\Desktop\\cppsecrets\\machine lea...  \n",
      "86740  C:\\Users\\Lenovo\\Desktop\\cppsecrets\\machine lea...  \n",
      "86741  C:\\Users\\Lenovo\\Desktop\\cppsecrets\\machine lea...  \n",
      "86742  C:\\Users\\Lenovo\\Desktop\\cppsecrets\\machine lea...  \n",
      "86743  C:\\Users\\Lenovo\\Desktop\\cppsecrets\\machine lea...  \n",
      "\n",
      "[86744 rows x 6 columns]\n"
     ]
    }
   ],
   "source": [
    "ppf.genrate_url()\n",
    "ppf.save_data(\"new_fairface_train\")"
   ]
  }
 ],
 "metadata": {
  "kernelspec": {
   "display_name": "Python 3",
   "language": "python",
   "name": "python3"
  },
  "language_info": {
   "codemirror_mode": {
    "name": "ipython",
    "version": 3
   },
   "file_extension": ".py",
   "mimetype": "text/x-python",
   "name": "python",
   "nbconvert_exporter": "python",
   "pygments_lexer": "ipython3",
   "version": "3.7.3"
  }
 },
 "nbformat": 4,
 "nbformat_minor": 2
}
